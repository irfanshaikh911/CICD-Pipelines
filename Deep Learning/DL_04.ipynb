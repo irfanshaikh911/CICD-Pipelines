{
 "cells": [
  {
   "cell_type": "code",
   "execution_count": 34,
   "id": "1763fa41-4a2e-442f-93b3-0d6e8f7f6c5f",
   "metadata": {},
   "outputs": [],
   "source": [
    "from tensorflow.keras.datasets import mnist\n",
    "from tensorflow.keras.utils import to_categorical\n",
    "from tensorflow.keras import Sequential\n",
    "from tensorflow.keras.layers import Conv2D,MaxPooling2D, Dense, Flatten"
   ]
  },
  {
   "cell_type": "code",
   "execution_count": 28,
   "id": "0153c5ac-59d4-4553-8e96-e98530518f3e",
   "metadata": {},
   "outputs": [],
   "source": [
    "(x_train,y_train),(x_test,y_test) = mnist.load_data()"
   ]
  },
  {
   "cell_type": "code",
   "execution_count": 29,
   "id": "0c9a31b0-37ef-4d83-aa88-dbd4d3b38c0b",
   "metadata": {},
   "outputs": [],
   "source": [
    "x_train = x_train.astype('float32') / 255.0\n",
    "x_test = x_test.astype('float32') / 255.0"
   ]
  },
  {
   "cell_type": "code",
   "execution_count": 30,
   "id": "b2741534-11a9-48d3-a22a-ce459640abf7",
   "metadata": {},
   "outputs": [],
   "source": [
    "x_train = x_train.reshape(-1,28,28,1)\n",
    "x_test = x_test.reshape(-1,28,28,1)"
   ]
  },
  {
   "cell_type": "code",
   "execution_count": 31,
   "id": "263a0a42-6c7d-4654-95eb-4eb95dab6691",
   "metadata": {},
   "outputs": [],
   "source": [
    "y_train = to_categorical(y_train,10)\n",
    "y_test = to_categorical(y_test,10)"
   ]
  },
  {
   "cell_type": "code",
   "execution_count": 35,
   "id": "db3b68d8-2c2b-4bab-854d-5699efc6afce",
   "metadata": {},
   "outputs": [],
   "source": [
    "model = Sequential([Conv2D(32,(3,3),strides = (1,1), padding='same',activation = 'relu'),\n",
    "                   MaxPooling2D(),\n",
    "                   Conv2D(64,(3,3),strides = (1,1), padding='same',activation = 'relu'),\n",
    "                   MaxPooling2D(),\n",
    "                   Conv2D(64,(3,3),strides = (1,1),padding='same', activation = 'relu'),\n",
    "                   Flatten(),\n",
    "                   Dense(64,activation='relu'),\n",
    "                   Dense(10,activation='softmax')])"
   ]
  },
  {
   "cell_type": "code",
   "execution_count": 37,
   "id": "c8239237-d43d-401c-9345-fbff48c93d37",
   "metadata": {},
   "outputs": [],
   "source": [
    "model.compile(optimizer='adam',loss='categorical_crossentropy',metrics=['accuracy'])"
   ]
  },
  {
   "cell_type": "code",
   "execution_count": 38,
   "id": "ea3e8a05-8306-4b40-9135-b05b270aaa99",
   "metadata": {},
   "outputs": [
    {
     "name": "stdout",
     "output_type": "stream",
     "text": [
      "Epoch 1/5\n",
      "\u001b[1m1875/1875\u001b[0m \u001b[32m━━━━━━━━━━━━━━━━━━━━\u001b[0m\u001b[37m\u001b[0m \u001b[1m64s\u001b[0m 30ms/step - accuracy: 0.9108 - loss: 0.2831 - val_accuracy: 0.9870 - val_loss: 0.0418\n",
      "Epoch 2/5\n",
      "\u001b[1m1875/1875\u001b[0m \u001b[32m━━━━━━━━━━━━━━━━━━━━\u001b[0m\u001b[37m\u001b[0m \u001b[1m85s\u001b[0m 32ms/step - accuracy: 0.9873 - loss: 0.0403 - val_accuracy: 0.9895 - val_loss: 0.0300\n",
      "Epoch 3/5\n",
      "\u001b[1m1875/1875\u001b[0m \u001b[32m━━━━━━━━━━━━━━━━━━━━\u001b[0m\u001b[37m\u001b[0m \u001b[1m55s\u001b[0m 29ms/step - accuracy: 0.9912 - loss: 0.0272 - val_accuracy: 0.9879 - val_loss: 0.0392\n",
      "Epoch 4/5\n",
      "\u001b[1m1875/1875\u001b[0m \u001b[32m━━━━━━━━━━━━━━━━━━━━\u001b[0m\u001b[37m\u001b[0m \u001b[1m78s\u001b[0m 27ms/step - accuracy: 0.9932 - loss: 0.0208 - val_accuracy: 0.9904 - val_loss: 0.0308\n",
      "Epoch 5/5\n",
      "\u001b[1m1875/1875\u001b[0m \u001b[32m━━━━━━━━━━━━━━━━━━━━\u001b[0m\u001b[37m\u001b[0m \u001b[1m52s\u001b[0m 28ms/step - accuracy: 0.9949 - loss: 0.0152 - val_accuracy: 0.9913 - val_loss: 0.0299\n"
     ]
    },
    {
     "data": {
      "text/plain": [
       "<keras.src.callbacks.history.History at 0x23ef6b9df50>"
      ]
     },
     "execution_count": 38,
     "metadata": {},
     "output_type": "execute_result"
    }
   ],
   "source": [
    "model.fit(x_train,y_train,batch_size=32, epochs=5,validation_data=[x_test,y_test])"
   ]
  },
  {
   "cell_type": "code",
   "execution_count": 41,
   "id": "76dee90c-fff6-4945-8417-8371fe9c8fe8",
   "metadata": {},
   "outputs": [],
   "source": [
    "import matplotlib.pyplot as plt\n",
    "import numpy as np\n",
    "def predict(index):\n",
    "    img = x_test[index]\n",
    "    plt.title('Original Image')\n",
    "    plt.imshow(img,cmap='gray')\n",
    "    plt.axis('off')\n",
    "    plt.show()\n",
    "    img = np.expand_dims(img,axis=0)\n",
    "    predict = model.predict(img)\n",
    "    predict_class = np.argmax(predict)\n",
    "    return predict_class\n",
    "    "
   ]
  },
  {
   "cell_type": "code",
   "execution_count": 42,
   "id": "42fd55c6-8d9a-4793-9560-61d6ccc9f13d",
   "metadata": {},
   "outputs": [
    {
     "data": {
      "image/png": "[encoded data removed]",
      "text/plain": [
       "<Figure size 640x480 with 1 Axes>"
      ]
     },
     "metadata": {},
     "output_type": "display_data"
    },
    {
     "name": "stdout",
     "output_type": "stream",
     "text": [
      "\u001b[1m1/1\u001b[0m \u001b[32m━━━━━━━━━━━━━━━━━━━━\u001b[0m\u001b[37m\u001b[0m \u001b[1m0s\u001b[0m 91ms/step\n",
      "Prediciton:  1\n"
     ]
    }
   ],
   "source": [
    "result = predict(5)\n",
    "print('Prediciton: ',result)"
   ]
  }
 ],
 "metadata": {
  "kernelspec": {
   "display_name": "Python 3 (ipykernel)",
   "language": "python",
   "name": "python3"
  },
  "language_info": {
   "codemirror_mode": {
    "name": "ipython",
    "version": 3
   },
   "file_extension": ".py",
   "mimetype": "text/x-python",
   "name": "python",
   "nbconvert_exporter": "python",
   "pygments_lexer": "ipython3",
   "version": "3.11.7"
  }
 },
 "nbformat": 4,
 "nbformat_minor": 5
}
