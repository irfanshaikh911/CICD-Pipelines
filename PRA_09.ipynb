{
 "cells": [
  {
   "cell_type": "code",
   "execution_count": 3,
   "id": "f976ec38-0875-47db-b04a-f8bbebaa0c80",
   "metadata": {},
   "outputs": [
    {
     "name": "stdout",
     "output_type": "stream",
     "text": [
      "\n",
      "🔎 Results for k = 1\n",
      "Accuracy: 0.6166666666666667\n",
      "Classification Report:\n",
      "              precision    recall  f1-score   support\n",
      "\n",
      "     circles       0.65      0.68      0.67        22\n",
      "     squares       0.46      0.81      0.59        16\n",
      "   triangles       1.00      0.41      0.58        22\n",
      "\n",
      "    accuracy                           0.62        60\n",
      "   macro avg       0.71      0.63      0.61        60\n",
      "weighted avg       0.73      0.62      0.61        60\n",
      "\n",
      "\n",
      "🔎 Results for k = 3\n",
      "Accuracy: 0.6333333333333333\n",
      "Classification Report:\n",
      "              precision    recall  f1-score   support\n",
      "\n",
      "     circles       0.64      0.73      0.68        22\n",
      "     squares       0.54      0.81      0.65        16\n",
      "   triangles       0.82      0.41      0.55        22\n",
      "\n",
      "    accuracy                           0.63        60\n",
      "   macro avg       0.67      0.65      0.63        60\n",
      "weighted avg       0.68      0.63      0.62        60\n",
      "\n",
      "\n",
      "🔎 Results for k = 5\n",
      "Accuracy: 0.48333333333333334\n",
      "Classification Report:\n",
      "              precision    recall  f1-score   support\n",
      "\n",
      "     circles       0.62      0.59      0.60        22\n",
      "     squares       0.35      0.75      0.48        16\n",
      "   triangles       0.80      0.18      0.30        22\n",
      "\n",
      "    accuracy                           0.48        60\n",
      "   macro avg       0.59      0.51      0.46        60\n",
      "weighted avg       0.61      0.48      0.46        60\n",
      "\n",
      "\n",
      "🔎 Results for k = 7\n",
      "Accuracy: 0.5166666666666667\n",
      "Classification Report:\n",
      "              precision    recall  f1-score   support\n",
      "\n",
      "     circles       0.63      0.55      0.59        22\n",
      "     squares       0.40      0.88      0.55        16\n",
      "   triangles       0.83      0.23      0.36        22\n",
      "\n",
      "    accuracy                           0.52        60\n",
      "   macro avg       0.62      0.55      0.50        60\n",
      "weighted avg       0.64      0.52      0.49        60\n",
      "\n"
     ]
    }
   ],
   "source": [
    "import os\n",
    "import numpy as np\n",
    "import matplotlib.pyplot as plt\n",
    "from sklearn.model_selection import train_test_split\n",
    "from sklearn.neighbors import KNeighborsClassifier\n",
    "from sklearn.metrics import classification_report, accuracy_score, confusion_matrix\n",
    "from sklearn.preprocessing import LabelEncoder\n",
    "from PIL import Image\n",
    "\n",
    "# Load images from folders\n",
    "def load_images_from_folder(base_path, image_size=(64, 64)):\n",
    "    data = []\n",
    "    labels = []\n",
    "    for label in os.listdir(base_path):\n",
    "        folder = os.path.join(base_path, label)\n",
    "        if os.path.isdir(folder):\n",
    "            for filename in os.listdir(folder):\n",
    "                img_path = os.path.join(folder, filename)\n",
    "                img = Image.open(img_path).convert(\"L\").resize(image_size)\n",
    "                img_array = np.array(img).flatten()\n",
    "                data.append(img_array)\n",
    "                labels.append(label)\n",
    "    return np.array(data), np.array(labels)\n",
    "\n",
    "# Load and preprocess the dataset\n",
    "data_path = r\"C:\\Users\\Shaikh Irfan\\Downloads\\drive-download-20250419T131102Z-001\\shapes B6\"  # path to your folder\n",
    "X, y = load_images_from_folder(data_path)\n",
    "\n",
    "# Encode labels (circle, square, triangle to 0,1,2)\n",
    "le = LabelEncoder()\n",
    "y_encoded = le.fit_transform(y)\n",
    "\n",
    "# Train-test split\n",
    "X_train, X_test, y_train, y_test = train_test_split(X, y_encoded, test_size=0.2, random_state=42)\n",
    "\n",
    "# Try different values of k\n",
    "for k in [1, 3, 5, 7]:\n",
    "    knn = KNeighborsClassifier(n_neighbors=k)\n",
    "    knn.fit(X_train, y_train)\n",
    "    y_pred = knn.predict(X_test)\n",
    "    \n",
    "    print(f\"\\n🔎 Results for k = {k}\")\n",
    "    print(\"Accuracy:\", accuracy_score(y_test, y_pred))\n",
    "    print(\"Classification Report:\")\n",
    "    print(classification_report(y_test, y_pred, target_names=le.classes_))\n",
    "\n"
   ]
  },
  {
   "cell_type": "code",
   "execution_count": 4,
   "id": "70d99678-92b2-45c1-98d0-2308a614df19",
   "metadata": {},
   "outputs": [
    {
     "data": {
      "image/png": "[encoded data removed]",
      "text/plain": [
       "<Figure size 600x400 with 2 Axes>"
      ]
     },
     "metadata": {},
     "output_type": "display_data"
    }
   ],
   "source": [
    "import seaborn as sns\n",
    "cm = confusion_matrix(y_test, y_pred)\n",
    "plt.figure(figsize=(6,4))\n",
    "sns.heatmap(cm, annot=True, fmt='d', xticklabels=le.classes_, yticklabels=le.classes_, cmap='Blues')\n",
    "plt.title(\"Confusion Matrix\")\n",
    "plt.xlabel(\"Predicted\")\n",
    "plt.ylabel(\"Actual\")\n",
    "plt.show()\n"
   ]
  },
  {
   "cell_type": "code",
   "execution_count": null,
   "id": "61a03e72-a43c-4586-9c39-c607bee7a9e1",
   "metadata": {},
   "outputs": [],
   "source": []
  }
 ],
 "metadata": {
  "kernelspec": {
   "display_name": "Python 3 (ipykernel)",
   "language": "python",
   "name": "python3"
  },
  "language_info": {
   "codemirror_mode": {
    "name": "ipython",
    "version": 3
   },
   "file_extension": ".py",
   "mimetype": "text/x-python",
   "name": "python",
   "nbconvert_exporter": "python",
   "pygments_lexer": "ipython3",
   "version": "3.11.7"
  }
 },
 "nbformat": 4,
 "nbformat_minor": 5
}
