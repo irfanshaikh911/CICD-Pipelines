{
 "cells": [
  {
   "cell_type": "raw",
   "id": "8b78c112-472d-4d9a-8442-b7f716ea599f",
   "metadata": {},
   "source": [
    "Creating a Reproducible ML Pipeline using Jupyter and Virtual Environment:\n",
    "a. Tasks to Perform:\n",
    "i. Set up a virtual environment using venv or conda.\n",
    "ii. Install necessary libraries like scikit-learn, pandas, matplotlib.\n",
    "iii. Create a Jupyter notebook that:\n",
    "iv. Loads a dataset (e.g., Titanic, Wine).\n",
    "v. Performs data preprocessing.\n",
    "vi. Trains a simple model.\n",
    "\n",
    "vii. Save the notebook and environment dependencies\n",
    "(requirements.txt).\n",
    "viii. Share the notebook and environment setup on GitHub for others\n",
    "to reproduce."
   ]
  },
  {
   "cell_type": "code",
   "execution_count": 3,
   "id": "6e4aafa7-a5e4-436a-a602-cbe98984e358",
   "metadata": {},
   "outputs": [
    {
     "ename": "SyntaxError",
     "evalue": "invalid syntax (2600529532.py, line 1)",
     "output_type": "error",
     "traceback": [
      "\u001b[1;36m  Cell \u001b[1;32mIn[3], line 1\u001b[1;36m\u001b[0m\n\u001b[1;33m    python -m venv myenv\u001b[0m\n\u001b[1;37m              ^\u001b[0m\n\u001b[1;31mSyntaxError\u001b[0m\u001b[1;31m:\u001b[0m invalid syntax\n"
     ]
    }
   ],
   "source": [
    "python -m venv myenv"
   ]
  },
  {
   "cell_type": "code",
   "execution_count": null,
   "id": "092e95da-b15e-4646-bd30-c23cdd317c84",
   "metadata": {},
   "outputs": [],
   "source": []
  }
 ],
 "metadata": {
  "kernelspec": {
   "display_name": "Python 3 (ipykernel)",
   "language": "python",
   "name": "python3"
  },
  "language_info": {
   "codemirror_mode": {
    "name": "ipython",
    "version": 3
   },
   "file_extension": ".py",
   "mimetype": "text/x-python",
   "name": "python",
   "nbconvert_exporter": "python",
   "pygments_lexer": "ipython3",
   "version": "3.11.7"
  }
 },
 "nbformat": 4,
 "nbformat_minor": 5
}
