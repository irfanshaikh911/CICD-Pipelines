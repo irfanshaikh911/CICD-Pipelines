{
 "cells": [
  {
   "cell_type": "code",
   "execution_count": 1,
   "id": "2433448b-e969-4fc1-a836-4bdcabe06311",
   "metadata": {},
   "outputs": [
    {
     "name": "stdout",
     "output_type": "stream",
     "text": [
      "   Unnamed: 0  sepal_lenght  sepal_width  petal_lenght  petal_width  \\\n",
      "0           0           5.1          3.5           1.4          0.2   \n",
      "1           1           4.9          3.0           1.4          0.2   \n",
      "2           2           4.7          3.2           1.3          0.2   \n",
      "3           3           4.6          3.1           1.5          0.2   \n",
      "4           4           5.0          3.6           1.4          0.2   \n",
      "\n",
      "         class  \n",
      "0  Iris-setosa  \n",
      "1  Iris-setosa  \n",
      "2  Iris-setosa  \n",
      "3  Iris-setosa  \n",
      "4  Iris-setosa  \n",
      "K=1, Accuracy=1.0000\n",
      "K=2, Accuracy=1.0000\n",
      "K=3, Accuracy=1.0000\n",
      "K=4, Accuracy=1.0000\n",
      "K=5, Accuracy=1.0000\n",
      "K=6, Accuracy=1.0000\n",
      "K=7, Accuracy=1.0000\n",
      "K=8, Accuracy=1.0000\n",
      "K=9, Accuracy=1.0000\n",
      "K=10, Accuracy=1.0000\n",
      "K=11, Accuracy=1.0000\n",
      "K=12, Accuracy=1.0000\n",
      "K=13, Accuracy=1.0000\n",
      "K=14, Accuracy=1.0000\n",
      "K=15, Accuracy=1.0000\n",
      "K=16, Accuracy=1.0000\n",
      "K=17, Accuracy=1.0000\n",
      "K=18, Accuracy=1.0000\n",
      "K=19, Accuracy=1.0000\n",
      "K=20, Accuracy=1.0000\n"
     ]
    },
    {
     "data": {
      "image/png": "[encoded data removed]",
      "text/plain": [
       "<Figure size 640x480 with 1 Axes>"
      ]
     },
     "metadata": {},
     "output_type": "display_data"
    }
   ],
   "source": [
    "import pandas as pd\n",
    "import matplotlib.pyplot as plt\n",
    "from sklearn.model_selection import train_test_split\n",
    "from sklearn.preprocessing import LabelEncoder\n",
    "from sklearn.neighbors import KNeighborsClassifier\n",
    "from sklearn.metrics import accuracy_score\n",
    "\n",
    "# Load the dataset\n",
    "df = pd.read_csv(r\"C:\\Users\\Shaikh Irfan\\Downloads\\drive-download-20250419T131102Z-001\\IRIS [GRP A1 B7].csv\")  # Make sure your file path is correct\n",
    "\n",
    "# Display basic info\n",
    "print(df.head())\n",
    "\n",
    "# Encode class labels\n",
    "le = LabelEncoder()\n",
    "df['class_encoded'] = le.fit_transform(df['class'])\n",
    "\n",
    "# Split features and labels\n",
    "X = df[['sepal_lenght', 'sepal_width', 'petal_lenght', 'petal_width']]\n",
    "y = df['class_encoded']\n",
    "\n",
    "# Split into training and test sets\n",
    "x_train, x_test, y_train, y_test = train_test_split(X, y, test_size=0.3, random_state=42)\n",
    "\n",
    "# Experiment with different values of K\n",
    "accuracy_scores = []\n",
    "k_values = list(range(1, 21))\n",
    "\n",
    "for k in k_values:\n",
    "    model = KNeighborsClassifier(n_neighbors=k)\n",
    "    model.fit(x_train, y_train)\n",
    "    y_pred = model.predict(x_test)\n",
    "    accuracy = accuracy_score(y_test, y_pred)\n",
    "    accuracy_scores.append(accuracy)\n",
    "    print(f\"K={k}, Accuracy={accuracy:.4f}\")\n",
    "\n",
    "# Plot K vs Accuracy\n",
    "plt.plot(k_values, accuracy_scores, marker='o', color='green')\n",
    "plt.title('KNN: Accuracy vs K')\n",
    "plt.xlabel('Number of Neighbors (K)')\n",
    "plt.ylabel('Accuracy')\n",
    "plt.grid(True)\n",
    "plt.show()\n"
   ]
  },
  {
   "cell_type": "code",
   "execution_count": 18,
   "id": "2f2b1cb9-803c-4d8b-b8cd-9c409c8d3b9f",
   "metadata": {},
   "outputs": [],
   "source": [
    "import numpy as np\n",
    "import pandas as pd\n",
    "from sklearn.model_selection import train_test_split\n",
    "from sklearn.neighbors import KNeighborsClassifier\n",
    "from sklearn.metrics import accuracy_score"
   ]
  },
  {
   "cell_type": "code",
   "execution_count": 8,
   "id": "d230c747-a3ec-4d10-bd79-9546d446c9f1",
   "metadata": {},
   "outputs": [],
   "source": [
    "df = pd.read_csv(r\"C:\\Users\\Shaikh Irfan\\Downloads\\drive-download-20250419T131102Z-001\\IRIS [GRP A1 B7].csv\")\n",
    "df.drop('Unnamed: 0',axis=1,inplace=True)"
   ]
  },
  {
   "cell_type": "code",
   "execution_count": 9,
   "id": "6d6fe618-c9d7-4ac7-a8d7-9c9ad0758c33",
   "metadata": {},
   "outputs": [
    {
     "data": {
      "text/html": [
       "<div>\n",
       "<style scoped>\n",
       "    .dataframe tbody tr th:only-of-type {\n",
       "        vertical-align: middle;\n",
       "    }\n",
       "\n",
       "    .dataframe tbody tr th {\n",
       "        vertical-align: top;\n",
       "    }\n",
       "\n",
       "    .dataframe thead th {\n",
       "        text-align: right;\n",
       "    }\n",
       "</style>\n",
       "<table border=\"1\" class=\"dataframe\">\n",
       "  <thead>\n",
       "    <tr style=\"text-align: right;\">\n",
       "      <th></th>\n",
       "      <th>sepal_lenght</th>\n",
       "      <th>sepal_width</th>\n",
       "      <th>petal_lenght</th>\n",
       "      <th>petal_width</th>\n",
       "      <th>class</th>\n",
       "    </tr>\n",
       "  </thead>\n",
       "  <tbody>\n",
       "    <tr>\n",
       "      <th>0</th>\n",
       "      <td>5.1</td>\n",
       "      <td>3.5</td>\n",
       "      <td>1.4</td>\n",
       "      <td>0.2</td>\n",
       "      <td>Iris-setosa</td>\n",
       "    </tr>\n",
       "    <tr>\n",
       "      <th>1</th>\n",
       "      <td>4.9</td>\n",
       "      <td>3.0</td>\n",
       "      <td>1.4</td>\n",
       "      <td>0.2</td>\n",
       "      <td>Iris-setosa</td>\n",
       "    </tr>\n",
       "    <tr>\n",
       "      <th>2</th>\n",
       "      <td>4.7</td>\n",
       "      <td>3.2</td>\n",
       "      <td>1.3</td>\n",
       "      <td>0.2</td>\n",
       "      <td>Iris-setosa</td>\n",
       "    </tr>\n",
       "    <tr>\n",
       "      <th>3</th>\n",
       "      <td>4.6</td>\n",
       "      <td>3.1</td>\n",
       "      <td>1.5</td>\n",
       "      <td>0.2</td>\n",
       "      <td>Iris-setosa</td>\n",
       "    </tr>\n",
       "    <tr>\n",
       "      <th>4</th>\n",
       "      <td>5.0</td>\n",
       "      <td>3.6</td>\n",
       "      <td>1.4</td>\n",
       "      <td>0.2</td>\n",
       "      <td>Iris-setosa</td>\n",
       "    </tr>\n",
       "  </tbody>\n",
       "</table>\n",
       "</div>"
      ],
      "text/plain": [
       "   sepal_lenght  sepal_width  petal_lenght  petal_width        class\n",
       "0           5.1          3.5           1.4          0.2  Iris-setosa\n",
       "1           4.9          3.0           1.4          0.2  Iris-setosa\n",
       "2           4.7          3.2           1.3          0.2  Iris-setosa\n",
       "3           4.6          3.1           1.5          0.2  Iris-setosa\n",
       "4           5.0          3.6           1.4          0.2  Iris-setosa"
      ]
     },
     "execution_count": 9,
     "metadata": {},
     "output_type": "execute_result"
    }
   ],
   "source": [
    "df.head(5)"
   ]
  },
  {
   "cell_type": "code",
   "execution_count": 11,
   "id": "b8224911-8ff6-476a-bc5a-6ad78b53449c",
   "metadata": {},
   "outputs": [],
   "source": [
    "x = df.drop('class',axis=1)\n",
    "y = df['class']"
   ]
  },
  {
   "cell_type": "code",
   "execution_count": 13,
   "id": "9ced5c9a-1d88-4365-a90a-f62f940df9c0",
   "metadata": {},
   "outputs": [],
   "source": [
    "x_train,x_test,y_train,y_test = train_test_split(x,y,test_size=0.2,random_state=32)"
   ]
  },
  {
   "cell_type": "code",
   "execution_count": 16,
   "id": "0b385b59-d4a7-4224-ae1d-37ee517e9697",
   "metadata": {},
   "outputs": [],
   "source": [
    "accuracy_scores=[]\n",
    "k = list(range(1,21))"
   ]
  },
  {
   "cell_type": "code",
   "execution_count": 22,
   "id": "727d71c8-88be-4ad1-9447-92e967ffa992",
   "metadata": {},
   "outputs": [
    {
     "name": "stdout",
     "output_type": "stream",
     "text": [
      "K=1, Accuracy=1.0000\n",
      "K=2, Accuracy=1.0000\n",
      "K=3, Accuracy=1.0000\n",
      "K=4, Accuracy=1.0000\n",
      "K=5, Accuracy=1.0000\n",
      "K=6, Accuracy=1.0000\n",
      "K=7, Accuracy=1.0000\n",
      "K=8, Accuracy=1.0000\n",
      "K=9, Accuracy=1.0000\n",
      "K=10, Accuracy=1.0000\n",
      "K=11, Accuracy=1.0000\n",
      "K=12, Accuracy=1.0000\n",
      "K=13, Accuracy=1.0000\n",
      "K=14, Accuracy=1.0000\n",
      "K=15, Accuracy=1.0000\n",
      "K=16, Accuracy=1.0000\n",
      "K=17, Accuracy=1.0000\n",
      "K=18, Accuracy=1.0000\n",
      "K=19, Accuracy=1.0000\n",
      "K=20, Accuracy=1.0000\n"
     ]
    }
   ],
   "source": [
    "for no in k:\n",
    "    knn = KNeighborsClassifier(n_neighbors=no)\n",
    "    knn.fit(x_train,y_train)\n",
    "    y_pred = knn.predict(x_test)\n",
    "    accuracy_scores.append(accuracy_score(y_test,y_pred))\n",
    "    print(f\"K={no}, Accuracy={accuracy:.4f}\")\n",
    "    "
   ]
  },
  {
   "cell_type": "code",
   "execution_count": null,
   "id": "b856f875-8ff2-43e3-b331-234aa30d78c0",
   "metadata": {},
   "outputs": [],
   "source": []
  }
 ],
 "metadata": {
  "kernelspec": {
   "display_name": "Python 3 (ipykernel)",
   "language": "python",
   "name": "python3"
  },
  "language_info": {
   "codemirror_mode": {
    "name": "ipython",
    "version": 3
   },
   "file_extension": ".py",
   "mimetype": "text/x-python",
   "name": "python",
   "nbconvert_exporter": "python",
   "pygments_lexer": "ipython3",
   "version": "3.11.7"
  }
 },
 "nbformat": 4,
 "nbformat_minor": 5
}
