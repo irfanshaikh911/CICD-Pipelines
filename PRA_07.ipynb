{
 "cells": [
  {
   "cell_type": "code",
   "execution_count": 2,
   "id": "16b51e58-120e-43aa-9e5d-9567e3bbfaab",
   "metadata": {},
   "outputs": [
    {
     "name": "stderr",
     "output_type": "stream",
     "text": [
      "MultinomialHMM has undergone major changes. The previous version was implementing a CategoricalHMM (a special case of MultinomialHMM). This new implementation follows the standard definition for a Multinomial distribution (e.g. as in https://en.wikipedia.org/wiki/Multinomial_distribution). See these issues for details:\n",
      "https://github.com/hmmlearn/hmmlearn/issues/335\n",
      "https://github.com/hmmlearn/hmmlearn/issues/340\n"
     ]
    },
    {
     "name": "stdout",
     "output_type": "stream",
     "text": [
      "   Nucleotide True Label predicted_label\n",
      "0           A   Non-Gene        Non-Gene\n",
      "1           T   Non-Gene            Gene\n",
      "2           A   Non-Gene            Gene\n",
      "3           G   Non-Gene            Gene\n",
      "4           A   Non-Gene            Gene\n",
      "5           G   Non-Gene            Gene\n",
      "6           C   Non-Gene            Gene\n",
      "7           C   Non-Gene            Gene\n",
      "8           T   Non-Gene            Gene\n",
      "9           C   Non-Gene            Gene\n",
      "10          A   Non-Gene            Gene\n",
      "11          T   Non-Gene            Gene\n",
      "12          T   Non-Gene            Gene\n",
      "13          G   Non-Gene            Gene\n",
      "14          A   Non-Gene            Gene\n",
      "15          A   Non-Gene            Gene\n",
      "16          G   Non-Gene            Gene\n",
      "17          A   Non-Gene            Gene\n",
      "18          C   Non-Gene            Gene\n",
      "19          G   Non-Gene            Gene\n"
     ]
    }
   ],
   "source": [
    "import pandas as pd\n",
    "from hmmlearn import hmm\n",
    "from sklearn.preprocessing import LabelEncoder\n",
    "import numpy as np\n",
    "\n",
    "# Step 1: Load the dataset\n",
    "df = pd.read_csv(r\"C:\\Users\\Shaikh Irfan\\Downloads\\drive-download-20250419T131102Z-001\\hmm_dna[GRP B2].csv\")  # should have 'nucleotide' and 'label'\n",
    "\n",
    "# Step 2: Encode nucleotides and labels as integers\n",
    "nucleotide_encoder = LabelEncoder()\n",
    "label_encoder = LabelEncoder()\n",
    "\n",
    "X = nucleotide_encoder.fit_transform(df['Nucleotide']).reshape(-1, 1)  # Observations\n",
    "y = label_encoder.fit_transform(df['True Label'])  # True labels (hidden states)\n",
    "\n",
    "# Step 3: Create and train the model\n",
    "n_states = len(np.unique(y))\n",
    "n_observations = len(nucleotide_encoder.classes_)\n",
    "\n",
    "model = hmm.MultinomialHMM(n_components=n_states, n_iter=1000)\n",
    "model.fit(X)  # Uses MLE internally\n",
    "\n",
    "# Step 4: Predict hidden states (labels)\n",
    "predicted_states = model.predict(X)\n",
    "\n",
    "# Step 5: Decode labels back to original\n",
    "decoded_true_labels = label_encoder.inverse_transform(y)\n",
    "decoded_predicted_labels = label_encoder.inverse_transform(predicted_states)\n",
    "\n",
    "# Step 6: View results\n",
    "df['predicted_label'] = decoded_predicted_labels\n",
    "print(df.head(20))\n"
   ]
  },
  {
   "cell_type": "code",
   "execution_count": 3,
   "id": "f675c79a-673f-473f-9b29-9315420d5972",
   "metadata": {},
   "outputs": [
    {
     "name": "stdout",
     "output_type": "stream",
     "text": [
      "Accuracy: 0.49005\n"
     ]
    }
   ],
   "source": [
    "from sklearn.metrics import accuracy_score\n",
    "print(\"Accuracy:\", accuracy_score(decoded_true_labels, decoded_predicted_labels))\n"
   ]
  },
  {
   "cell_type": "code",
   "execution_count": 57,
   "id": "a50e8736-415b-4375-9616-d9a899cfae57",
   "metadata": {},
   "outputs": [],
   "source": [
    "import pandas as pd\n",
    "import numpy as np\n",
    "from sklearn.preprocessing import LabelEncoder\n",
    "from hmmlearn.hmm import MultinomialHMM"
   ]
  },
  {
   "cell_type": "code",
   "execution_count": 50,
   "id": "679c545f-e959-4610-86a6-b0e2612e24f6",
   "metadata": {},
   "outputs": [
    {
     "data": {
      "text/html": [
       "<div>\n",
       "<style scoped>\n",
       "    .dataframe tbody tr th:only-of-type {\n",
       "        vertical-align: middle;\n",
       "    }\n",
       "\n",
       "    .dataframe tbody tr th {\n",
       "        vertical-align: top;\n",
       "    }\n",
       "\n",
       "    .dataframe thead th {\n",
       "        text-align: right;\n",
       "    }\n",
       "</style>\n",
       "<table border=\"1\" class=\"dataframe\">\n",
       "  <thead>\n",
       "    <tr style=\"text-align: right;\">\n",
       "      <th></th>\n",
       "      <th>Nucleotide</th>\n",
       "      <th>True Label</th>\n",
       "    </tr>\n",
       "  </thead>\n",
       "  <tbody>\n",
       "    <tr>\n",
       "      <th>0</th>\n",
       "      <td>A</td>\n",
       "      <td>Non-Gene</td>\n",
       "    </tr>\n",
       "    <tr>\n",
       "      <th>1</th>\n",
       "      <td>T</td>\n",
       "      <td>Non-Gene</td>\n",
       "    </tr>\n",
       "    <tr>\n",
       "      <th>2</th>\n",
       "      <td>A</td>\n",
       "      <td>Non-Gene</td>\n",
       "    </tr>\n",
       "    <tr>\n",
       "      <th>3</th>\n",
       "      <td>G</td>\n",
       "      <td>Non-Gene</td>\n",
       "    </tr>\n",
       "    <tr>\n",
       "      <th>4</th>\n",
       "      <td>A</td>\n",
       "      <td>Non-Gene</td>\n",
       "    </tr>\n",
       "  </tbody>\n",
       "</table>\n",
       "</div>"
      ],
      "text/plain": [
       "  Nucleotide True Label\n",
       "0          A   Non-Gene\n",
       "1          T   Non-Gene\n",
       "2          A   Non-Gene\n",
       "3          G   Non-Gene\n",
       "4          A   Non-Gene"
      ]
     },
     "execution_count": 50,
     "metadata": {},
     "output_type": "execute_result"
    }
   ],
   "source": [
    "df = pd.read_csv(r\"C:\\Users\\Shaikh Irfan\\Downloads\\drive-download-20250419T131102Z-001\\hmm_dna[GRP B2].csv\")\n",
    "df.head(5)"
   ]
  },
  {
   "cell_type": "code",
   "execution_count": 52,
   "id": "a8f0498f-03eb-4105-96ce-7a82cd788dbe",
   "metadata": {},
   "outputs": [],
   "source": [
    "nucleotide = LabelEncoder()\n",
    "label_encoder = LabelEncoder()"
   ]
  },
  {
   "cell_type": "code",
   "execution_count": 53,
   "id": "05043746-b6a5-42ba-b7a3-41306fb50811",
   "metadata": {},
   "outputs": [],
   "source": [
    "X = nucleotide.fit_transform(df['Nucleotide']).reshape(-1,1)\n",
    "y = label_encoder.fit_transform(df['True Label'])"
   ]
  },
  {
   "cell_type": "code",
   "execution_count": 54,
   "id": "1746dedf-f18e-40d5-a673-d09ce87f4489",
   "metadata": {},
   "outputs": [],
   "source": [
    "n_states = len(np.unique(y))"
   ]
  },
  {
   "cell_type": "code",
   "execution_count": 58,
   "id": "bd40e75c-00fc-4632-9d0c-2c88b16db461",
   "metadata": {},
   "outputs": [
    {
     "name": "stderr",
     "output_type": "stream",
     "text": [
      "MultinomialHMM has undergone major changes. The previous version was implementing a CategoricalHMM (a special case of MultinomialHMM). This new implementation follows the standard definition for a Multinomial distribution (e.g. as in https://en.wikipedia.org/wiki/Multinomial_distribution). See these issues for details:\n",
      "https://github.com/hmmlearn/hmmlearn/issues/335\n",
      "https://github.com/hmmlearn/hmmlearn/issues/340\n"
     ]
    }
   ],
   "source": [
    "model = MultinomialHMM(n_components=n_states,n_iter=100)"
   ]
  },
  {
   "cell_type": "code",
   "execution_count": 59,
   "id": "b4273e50-57ba-49d4-b276-3b45d81dd855",
   "metadata": {},
   "outputs": [
    {
     "data": {
      "text/html": [
       "<style>#sk-container-id-2 {color: black;background-color: white;}#sk-container-id-2 pre{padding: 0;}#sk-container-id-2 div.sk-toggleable {background-color: white;}#sk-container-id-2 label.sk-toggleable__label {cursor: pointer;display: block;width: 100%;margin-bottom: 0;padding: 0.3em;box-sizing: border-box;text-align: center;}#sk-container-id-2 label.sk-toggleable__label-arrow:before {content: \"▸\";float: left;margin-right: 0.25em;color: #696969;}#sk-container-id-2 label.sk-toggleable__label-arrow:hover:before {color: black;}#sk-container-id-2 div.sk-estimator:hover label.sk-toggleable__label-arrow:before {color: black;}#sk-container-id-2 div.sk-toggleable__content {max-height: 0;max-width: 0;overflow: hidden;text-align: left;background-color: #f0f8ff;}#sk-container-id-2 div.sk-toggleable__content pre {margin: 0.2em;color: black;border-radius: 0.25em;background-color: #f0f8ff;}#sk-container-id-2 input.sk-toggleable__control:checked~div.sk-toggleable__content {max-height: 200px;max-width: 100%;overflow: auto;}#sk-container-id-2 input.sk-toggleable__control:checked~label.sk-toggleable__label-arrow:before {content: \"▾\";}#sk-container-id-2 div.sk-estimator input.sk-toggleable__control:checked~label.sk-toggleable__label {background-color: #d4ebff;}#sk-container-id-2 div.sk-label input.sk-toggleable__control:checked~label.sk-toggleable__label {background-color: #d4ebff;}#sk-container-id-2 input.sk-hidden--visually {border: 0;clip: rect(1px 1px 1px 1px);clip: rect(1px, 1px, 1px, 1px);height: 1px;margin: -1px;overflow: hidden;padding: 0;position: absolute;width: 1px;}#sk-container-id-2 div.sk-estimator {font-family: monospace;background-color: #f0f8ff;border: 1px dotted black;border-radius: 0.25em;box-sizing: border-box;margin-bottom: 0.5em;}#sk-container-id-2 div.sk-estimator:hover {background-color: #d4ebff;}#sk-container-id-2 div.sk-parallel-item::after {content: \"\";width: 100%;border-bottom: 1px solid gray;flex-grow: 1;}#sk-container-id-2 div.sk-label:hover label.sk-toggleable__label {background-color: #d4ebff;}#sk-container-id-2 div.sk-serial::before {content: \"\";position: absolute;border-left: 1px solid gray;box-sizing: border-box;top: 0;bottom: 0;left: 50%;z-index: 0;}#sk-container-id-2 div.sk-serial {display: flex;flex-direction: column;align-items: center;background-color: white;padding-right: 0.2em;padding-left: 0.2em;position: relative;}#sk-container-id-2 div.sk-item {position: relative;z-index: 1;}#sk-container-id-2 div.sk-parallel {display: flex;align-items: stretch;justify-content: center;background-color: white;position: relative;}#sk-container-id-2 div.sk-item::before, #sk-container-id-2 div.sk-parallel-item::before {content: \"\";position: absolute;border-left: 1px solid gray;box-sizing: border-box;top: 0;bottom: 0;left: 50%;z-index: -1;}#sk-container-id-2 div.sk-parallel-item {display: flex;flex-direction: column;z-index: 1;position: relative;background-color: white;}#sk-container-id-2 div.sk-parallel-item:first-child::after {align-self: flex-end;width: 50%;}#sk-container-id-2 div.sk-parallel-item:last-child::after {align-self: flex-start;width: 50%;}#sk-container-id-2 div.sk-parallel-item:only-child::after {width: 0;}#sk-container-id-2 div.sk-dashed-wrapped {border: 1px dashed gray;margin: 0 0.4em 0.5em 0.4em;box-sizing: border-box;padding-bottom: 0.4em;background-color: white;}#sk-container-id-2 div.sk-label label {font-family: monospace;font-weight: bold;display: inline-block;line-height: 1.2em;}#sk-container-id-2 div.sk-label-container {text-align: center;}#sk-container-id-2 div.sk-container {/* jupyter's `normalize.less` sets `[hidden] { display: none; }` but bootstrap.min.css set `[hidden] { display: none !important; }` so we also need the `!important` here to be able to override the default hidden behavior on the sphinx rendered scikit-learn.org. See: https://github.com/scikit-learn/scikit-learn/issues/21755 */display: inline-block !important;position: relative;}#sk-container-id-2 div.sk-text-repr-fallback {display: none;}</style><div id=\"sk-container-id-2\" class=\"sk-top-container\"><div class=\"sk-text-repr-fallback\"><pre>MultinomialHMM(n_components=2, n_iter=100,\n",
       "               n_trials=array([0, 3, 0, ..., 1, 1, 3]),\n",
       "               random_state=RandomState(MT19937) at 0x1E85422A440)</pre><b>In a Jupyter environment, please rerun this cell to show the HTML representation or trust the notebook. <br />On GitHub, the HTML representation is unable to render, please try loading this page with nbviewer.org.</b></div><div class=\"sk-container\" hidden><div class=\"sk-item\"><div class=\"sk-estimator sk-toggleable\"><input class=\"sk-toggleable__control sk-hidden--visually\" id=\"sk-estimator-id-2\" type=\"checkbox\" checked><label for=\"sk-estimator-id-2\" class=\"sk-toggleable__label sk-toggleable__label-arrow\">MultinomialHMM</label><div class=\"sk-toggleable__content\"><pre>MultinomialHMM(n_components=2, n_iter=100,\n",
       "               n_trials=array([0, 3, 0, ..., 1, 1, 3]),\n",
       "               random_state=RandomState(MT19937) at 0x1E85422A440)</pre></div></div></div></div></div>"
      ],
      "text/plain": [
       "MultinomialHMM(n_components=2, n_iter=100,\n",
       "               n_trials=array([0, 3, 0, ..., 1, 1, 3]),\n",
       "               random_state=RandomState(MT19937) at 0x1E85422A440)"
      ]
     },
     "execution_count": 59,
     "metadata": {},
     "output_type": "execute_result"
    }
   ],
   "source": [
    "model.fit(X)"
   ]
  },
  {
   "cell_type": "code",
   "execution_count": 60,
   "id": "ebf374cf-ebf8-4736-b855-3a785e6704b7",
   "metadata": {},
   "outputs": [],
   "source": [
    "y_pred = model.predict(X)"
   ]
  },
  {
   "cell_type": "code",
   "execution_count": 61,
   "id": "ab5ee9e1-ff34-4506-a81a-e79b0f664166",
   "metadata": {},
   "outputs": [],
   "source": [
    "decoder_true_value = label_encoder.inverse_transform(y)\n",
    "decoder_predicted_value = label_encoder.inverse_transform(y_pred)"
   ]
  },
  {
   "cell_type": "code",
   "execution_count": 62,
   "id": "6b99b53e-dd0e-4959-b976-0d0836823bdb",
   "metadata": {},
   "outputs": [],
   "source": [
    "df['Decoded Predicted Value'] = decoder_predicted_value"
   ]
  },
  {
   "cell_type": "code",
   "execution_count": 63,
   "id": "a63a0053-7b6b-42f1-b7cf-fcc9f78eda34",
   "metadata": {},
   "outputs": [
    {
     "data": {
      "text/html": [
       "<div>\n",
       "<style scoped>\n",
       "    .dataframe tbody tr th:only-of-type {\n",
       "        vertical-align: middle;\n",
       "    }\n",
       "\n",
       "    .dataframe tbody tr th {\n",
       "        vertical-align: top;\n",
       "    }\n",
       "\n",
       "    .dataframe thead th {\n",
       "        text-align: right;\n",
       "    }\n",
       "</style>\n",
       "<table border=\"1\" class=\"dataframe\">\n",
       "  <thead>\n",
       "    <tr style=\"text-align: right;\">\n",
       "      <th></th>\n",
       "      <th>Nucleotide</th>\n",
       "      <th>True Label</th>\n",
       "      <th>Decoded Predicted Value</th>\n",
       "    </tr>\n",
       "  </thead>\n",
       "  <tbody>\n",
       "    <tr>\n",
       "      <th>0</th>\n",
       "      <td>A</td>\n",
       "      <td>Non-Gene</td>\n",
       "      <td>Gene</td>\n",
       "    </tr>\n",
       "    <tr>\n",
       "      <th>1</th>\n",
       "      <td>T</td>\n",
       "      <td>Non-Gene</td>\n",
       "      <td>Non-Gene</td>\n",
       "    </tr>\n",
       "    <tr>\n",
       "      <th>2</th>\n",
       "      <td>A</td>\n",
       "      <td>Non-Gene</td>\n",
       "      <td>Non-Gene</td>\n",
       "    </tr>\n",
       "    <tr>\n",
       "      <th>3</th>\n",
       "      <td>G</td>\n",
       "      <td>Non-Gene</td>\n",
       "      <td>Non-Gene</td>\n",
       "    </tr>\n",
       "    <tr>\n",
       "      <th>4</th>\n",
       "      <td>A</td>\n",
       "      <td>Non-Gene</td>\n",
       "      <td>Non-Gene</td>\n",
       "    </tr>\n",
       "  </tbody>\n",
       "</table>\n",
       "</div>"
      ],
      "text/plain": [
       "  Nucleotide True Label Decoded Predicted Value\n",
       "0          A   Non-Gene                    Gene\n",
       "1          T   Non-Gene                Non-Gene\n",
       "2          A   Non-Gene                Non-Gene\n",
       "3          G   Non-Gene                Non-Gene\n",
       "4          A   Non-Gene                Non-Gene"
      ]
     },
     "execution_count": 63,
     "metadata": {},
     "output_type": "execute_result"
    }
   ],
   "source": [
    "df.head(5)"
   ]
  },
  {
   "cell_type": "code",
   "execution_count": null,
   "id": "219d11ba-7ded-4f9d-8063-96a5f2a7ed1b",
   "metadata": {},
   "outputs": [],
   "source": []
  }
 ],
 "metadata": {
  "kernelspec": {
   "display_name": "Python 3 (ipykernel)",
   "language": "python",
   "name": "python3"
  },
  "language_info": {
   "codemirror_mode": {
    "name": "ipython",
    "version": 3
   },
   "file_extension": ".py",
   "mimetype": "text/x-python",
   "name": "python",
   "nbconvert_exporter": "python",
   "pygments_lexer": "ipython3",
   "version": "3.11.7"
  }
 },
 "nbformat": 4,
 "nbformat_minor": 5
}
